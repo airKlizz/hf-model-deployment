{
 "cells": [
  {
   "cell_type": "code",
   "execution_count": 1,
   "id": "e2c74ec3",
   "metadata": {},
   "outputs": [],
   "source": [
    "import pandas as pd "
   ]
  },
  {
   "cell_type": "code",
   "execution_count": 5,
   "id": "7548e1d4",
   "metadata": {},
   "outputs": [],
   "source": [
    "df = pd.read_json(\"447-outputs/fastapi-optimum-onnx-amd.json\",lines=True)"
   ]
  },
  {
   "cell_type": "code",
   "execution_count": 6,
   "id": "92f272d8",
   "metadata": {},
   "outputs": [
    {
     "data": {
      "text/html": [
       "<div>\n",
       "<style scoped>\n",
       "    .dataframe tbody tr th:only-of-type {\n",
       "        vertical-align: middle;\n",
       "    }\n",
       "\n",
       "    .dataframe tbody tr th {\n",
       "        vertical-align: top;\n",
       "    }\n",
       "\n",
       "    .dataframe thead th {\n",
       "        text-align: right;\n",
       "    }\n",
       "</style>\n",
       "<table border=\"1\" class=\"dataframe\">\n",
       "  <thead>\n",
       "    <tr style=\"text-align: right;\">\n",
       "      <th></th>\n",
       "      <th>type</th>\n",
       "      <th>data</th>\n",
       "      <th>metric</th>\n",
       "    </tr>\n",
       "  </thead>\n",
       "  <tbody>\n",
       "    <tr>\n",
       "      <th>0</th>\n",
       "      <td>Metric</td>\n",
       "      <td>{'name': 'http_reqs', 'type': 'counter', 'cont...</td>\n",
       "      <td>http_reqs</td>\n",
       "    </tr>\n",
       "    <tr>\n",
       "      <th>1</th>\n",
       "      <td>Point</td>\n",
       "      <td>{'time': '2023-01-29T11:35:47.298032+01:00', '...</td>\n",
       "      <td>http_reqs</td>\n",
       "    </tr>\n",
       "    <tr>\n",
       "      <th>2</th>\n",
       "      <td>Metric</td>\n",
       "      <td>{'name': 'http_req_duration', 'type': 'trend',...</td>\n",
       "      <td>http_req_duration</td>\n",
       "    </tr>\n",
       "    <tr>\n",
       "      <th>3</th>\n",
       "      <td>Point</td>\n",
       "      <td>{'time': '2023-01-29T11:35:47.298032+01:00', '...</td>\n",
       "      <td>http_req_duration</td>\n",
       "    </tr>\n",
       "    <tr>\n",
       "      <th>4</th>\n",
       "      <td>Metric</td>\n",
       "      <td>{'name': 'http_req_blocked', 'type': 'trend', ...</td>\n",
       "      <td>http_req_blocked</td>\n",
       "    </tr>\n",
       "  </tbody>\n",
       "</table>\n",
       "</div>"
      ],
      "text/plain": [
       "     type                                               data  \\\n",
       "0  Metric  {'name': 'http_reqs', 'type': 'counter', 'cont...   \n",
       "1   Point  {'time': '2023-01-29T11:35:47.298032+01:00', '...   \n",
       "2  Metric  {'name': 'http_req_duration', 'type': 'trend',...   \n",
       "3   Point  {'time': '2023-01-29T11:35:47.298032+01:00', '...   \n",
       "4  Metric  {'name': 'http_req_blocked', 'type': 'trend', ...   \n",
       "\n",
       "              metric  \n",
       "0          http_reqs  \n",
       "1          http_reqs  \n",
       "2  http_req_duration  \n",
       "3  http_req_duration  \n",
       "4   http_req_blocked  "
      ]
     },
     "execution_count": 6,
     "metadata": {},
     "output_type": "execute_result"
    }
   ],
   "source": [
    "df.head()"
   ]
  }
 ],
 "metadata": {
  "kernelspec": {
   "display_name": "Python 3 (ipykernel)",
   "language": "python",
   "name": "python3"
  },
  "language_info": {
   "codemirror_mode": {
    "name": "ipython",
    "version": 3
   },
   "file_extension": ".py",
   "mimetype": "text/x-python",
   "name": "python",
   "nbconvert_exporter": "python",
   "pygments_lexer": "ipython3",
   "version": "3.10.9"
  }
 },
 "nbformat": 4,
 "nbformat_minor": 5
}
